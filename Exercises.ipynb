{
 "cells": [
  {
   "cell_type": "code",
   "execution_count": 1,
   "id": "c3137fd8",
   "metadata": {},
   "outputs": [
    {
     "name": "stdout",
     "output_type": "stream",
     "text": [
      "* * * * * * * * * * "
     ]
    }
   ],
   "source": [
    "rows =5\n",
    "for x in range(1, rows):\n",
    "    for y in range(1,x+1):\n",
    "        print(\"*\", end=\" \")\n",
    "        "
   ]
  },
  {
   "cell_type": "code",
   "execution_count": 2,
   "id": "ad4f7d29",
   "metadata": {},
   "outputs": [
    {
     "data": {
      "text/plain": [
       "0.1017249004865104"
      ]
     },
     "execution_count": 2,
     "metadata": {},
     "output_type": "execute_result"
    }
   ],
   "source": [
    "(512-282)/(47*48+5)\n"
   ]
  },
  {
   "cell_type": "code",
   "execution_count": 3,
   "id": "0236568e",
   "metadata": {},
   "outputs": [
    {
     "name": "stdout",
     "output_type": "stream",
     "text": [
      "0.1017249004865104\n"
     ]
    }
   ],
   "source": [
    "x=512\n",
    "y=282\n",
    "z=47*48\n",
    "q=5\n",
    "value=x-y\n",
    "valueb=z+q\n",
    "valuec=value/valueb\n",
    "print(valuec)\n"
   ]
  },
  {
   "cell_type": "code",
   "execution_count": 4,
   "id": "154fd426",
   "metadata": {},
   "outputs": [
    {
     "data": {
      "text/plain": [
       "0.1017249004865104"
      ]
     },
     "execution_count": 4,
     "metadata": {},
     "output_type": "execute_result"
    }
   ],
   "source": [
    "(512-282)/((47*48)+5)"
   ]
  },
  {
   "cell_type": "code",
   "execution_count": null,
   "id": "f0d041d2",
   "metadata": {},
   "outputs": [],
   "source": [
    "number=int(input(\"Enter a number: \"))\n",
    "square=(number**2)\n",
    "print(\"The square of:\", number,\"is\", square, sep=\" \")"
   ]
  },
  {
   "cell_type": "code",
   "execution_count": null,
   "id": "f201740f",
   "metadata": {},
   "outputs": [],
   "source": [
    "number=int(input(\"Enter a number: \"))\n",
    "square_number=number*number\n",
    "print(\"The square of 5 is \",square_number,\".\", sep=\"\")\n"
   ]
  },
  {
   "cell_type": "code",
   "execution_count": null,
   "id": "566107e6",
   "metadata": {},
   "outputs": [],
   "source": [
    "name=\"      adan kibichii\"\n",
    "print(name.rstrip())"
   ]
  },
  {
   "cell_type": "code",
   "execution_count": null,
   "id": "0fb6382a",
   "metadata": {},
   "outputs": [],
   "source": [
    "x=int(input(\"Enter a number: \"))\n",
    "print(x,2*x,3*x,4*x,5*x, sep=\"---\")\n",
    "\n",
    "      \n"
   ]
  },
  {
   "cell_type": "code",
   "execution_count": 3,
   "id": "a9e6b0c4",
   "metadata": {},
   "outputs": [
    {
     "name": "stdout",
     "output_type": "stream",
     "text": [
      "Enter a number: 5\n",
      "5 --- 10 --- 15 --- 20 --- 25 --- "
     ]
    }
   ],
   "source": [
    "i=1\n",
    "x=int(input(\"Enter a number: \"))\n",
    "while i<=5:\n",
    "    print(x*i,\"---\",end=\" \")\n",
    "    i=(i+1)\n",
    "    \n",
    "\n",
    "\n"
   ]
  },
  {
   "cell_type": "code",
   "execution_count": null,
   "id": "24e4b309",
   "metadata": {},
   "outputs": [],
   "source": [
    "weight_in_kg=int(input(\"What is your weight in (kg): \"))\n",
    "weight_in_pounds=weight_in_kg/2.2\n",
    "print(weight_in_pounds)"
   ]
  },
  {
   "cell_type": "code",
   "execution_count": null,
   "id": "40f53bd7",
   "metadata": {},
   "outputs": [],
   "source": [
    "Number1=int(input(\"Enter a number: \"))\n",
    "Number2=int(input(\"Enter a number: \"))\n",
    "Number3=int(input(\"Enter a number: \"))\n",
    "Total=Number1+Number2+Number3\n",
    "Average=(Number1+Number2+Number3)/3\n",
    "print(Total)\n",
    "print(Average)\n",
    "           "
   ]
  },
  {
   "cell_type": "code",
   "execution_count": 6,
   "id": "965d3d8b",
   "metadata": {},
   "outputs": [
    {
     "name": "stdout",
     "output_type": "stream",
     "text": [
      "What is the price of the meal: 100\n",
      "Percentage tip? 20\n",
      "20\n",
      "120.0\n"
     ]
    }
   ],
   "source": [
    "price=int(input(\"What is the price of the meal: \"))\n",
    "tip=int(input(\"Percentage tip? \"))\n",
    "total=(price+((tip*price)/100))\n",
    "print(tip)\n",
    "print(total)\n"
   ]
  },
  {
   "cell_type": "code",
   "execution_count": 7,
   "id": "204b59ec",
   "metadata": {},
   "outputs": [
    {
     "name": "stdout",
     "output_type": "stream",
     "text": [
      "*\n",
      "**\n",
      "***\n",
      "****\n",
      "*****\n"
     ]
    }
   ],
   "source": [
    "for i in range(5):\n",
    "    print(\"*\"*(i+1))"
   ]
  },
  {
   "cell_type": "code",
   "execution_count": 8,
   "id": "0b1379f7",
   "metadata": {},
   "outputs": [
    {
     "name": "stdout",
     "output_type": "stream",
     "text": [
      "Adan\n",
      "Adan\n",
      "Adan\n",
      "Adan\n",
      "Adan\n",
      "Adan\n",
      "Adan\n",
      "Adan\n",
      "Adan\n",
      "Adan\n",
      "Adan\n",
      "Adan\n",
      "Adan\n",
      "Adan\n",
      "Adan\n",
      "Adan\n",
      "Adan\n",
      "Adan\n",
      "Adan\n",
      "Adan\n",
      "Adan\n",
      "Adan\n",
      "Adan\n",
      "Adan\n",
      "Adan\n",
      "Adan\n",
      "Adan\n",
      "Adan\n",
      "Adan\n",
      "Adan\n",
      "Adan\n",
      "Adan\n",
      "Adan\n",
      "Adan\n",
      "Adan\n",
      "Adan\n",
      "Adan\n",
      "Adan\n",
      "Adan\n",
      "Adan\n",
      "Adan\n",
      "Adan\n",
      "Adan\n",
      "Adan\n",
      "Adan\n",
      "Adan\n",
      "Adan\n",
      "Adan\n",
      "Adan\n",
      "Adan\n",
      "Adan\n",
      "Adan\n",
      "Adan\n",
      "Adan\n",
      "Adan\n",
      "Adan\n",
      "Adan\n",
      "Adan\n",
      "Adan\n",
      "Adan\n",
      "Adan\n",
      "Adan\n",
      "Adan\n",
      "Adan\n",
      "Adan\n",
      "Adan\n",
      "Adan\n",
      "Adan\n",
      "Adan\n",
      "Adan\n",
      "Adan\n",
      "Adan\n",
      "Adan\n",
      "Adan\n",
      "Adan\n",
      "Adan\n",
      "Adan\n",
      "Adan\n",
      "Adan\n",
      "Adan\n",
      "Adan\n",
      "Adan\n",
      "Adan\n",
      "Adan\n",
      "Adan\n",
      "Adan\n",
      "Adan\n",
      "Adan\n",
      "Adan\n",
      "Adan\n",
      "Adan\n",
      "Adan\n",
      "Adan\n",
      "Adan\n",
      "Adan\n",
      "Adan\n",
      "Adan\n",
      "Adan\n",
      "Adan\n",
      "Adan\n"
     ]
    }
   ],
   "source": [
    "for i in range(100):\n",
    "    print(\"Adan\")"
   ]
  },
  {
   "cell_type": "code",
   "execution_count": null,
   "id": "30d9e7c2",
   "metadata": {
    "scrolled": true
   },
   "outputs": [],
   "source": [
    "i=1\n",
    "while i<=100:\n",
    "    print(\"Adan\")\n",
    "    i=i+1"
   ]
  },
  {
   "cell_type": "code",
   "execution_count": null,
   "id": "f6affafe",
   "metadata": {},
   "outputs": [],
   "source": [
    "i=1\n",
    "while i<=100:\n",
    "    print(\"Adan\")\n",
    "    i=i+1"
   ]
  },
  {
   "cell_type": "code",
   "execution_count": null,
   "id": "9870e5c0",
   "metadata": {},
   "outputs": [],
   "source": [
    "i=1\n",
    "while i<=100:\n",
    "    print(\"Adan\")\n",
    "    i=i+1"
   ]
  },
  {
   "cell_type": "code",
   "execution_count": null,
   "id": "2c32b789",
   "metadata": {},
   "outputs": [],
   "source": [
    "i=1\n",
    "while i<=25:\n",
    "    print(\"Adan  \"*50)\n",
    "    i=i+1\n",
    "    \n"
   ]
  },
  {
   "cell_type": "code",
   "execution_count": null,
   "id": "3eb4823c",
   "metadata": {},
   "outputs": [],
   "source": [
    "i=1\n",
    "while i<=100:\n",
    "    print(i, \"ADAN\")\n",
    "    i=i+1"
   ]
  },
  {
   "cell_type": "code",
   "execution_count": 9,
   "id": "5644524a",
   "metadata": {},
   "outputs": [
    {
     "name": "stdout",
     "output_type": "stream",
     "text": [
      "1---1\n",
      "2---4\n",
      "3---9\n",
      "4---16\n",
      "5---25\n",
      "6---36\n",
      "7---49\n",
      "8---64\n",
      "9---81\n",
      "10---100\n",
      "11---121\n",
      "12---144\n",
      "13---169\n",
      "14---196\n",
      "15---225\n",
      "16---256\n",
      "17---289\n",
      "18---324\n",
      "19---361\n",
      "20---400\n"
     ]
    }
   ],
   "source": [
    "i=1\n",
    "while i<=20:\n",
    "    print(i,i**2, sep=\"---\")\n",
    "    i=i+1"
   ]
  },
  {
   "cell_type": "code",
   "execution_count": 10,
   "id": "318a2c98",
   "metadata": {},
   "outputs": [
    {
     "name": "stdout",
     "output_type": "stream",
     "text": [
      "1 --- 1\n",
      "2 --- 4\n",
      "3 --- 9\n",
      "4 --- 16\n",
      "5 --- 25\n",
      "6 --- 36\n",
      "7 --- 49\n",
      "8 --- 64\n",
      "9 --- 81\n",
      "10 --- 100\n",
      "11 --- 121\n",
      "12 --- 144\n",
      "13 --- 169\n",
      "14 --- 196\n",
      "15 --- 225\n",
      "16 --- 256\n",
      "17 --- 289\n",
      "18 --- 324\n",
      "19 --- 361\n",
      "20 --- 400\n"
     ]
    }
   ],
   "source": [
    "i=1\n",
    "while i<=20:\n",
    "    print(i, \"---\", i**2)\n",
    "    i=i+1"
   ]
  },
  {
   "cell_type": "code",
   "execution_count": null,
   "id": "5b7423fe",
   "metadata": {},
   "outputs": [],
   "source": [
    "8<=i<=90\n",
    "for x in i:\n",
    "    \n",
    "    print(x+3)\n",
    "    \n",
    "    "
   ]
  },
  {
   "cell_type": "code",
   "execution_count": null,
   "id": "a2428df1",
   "metadata": {},
   "outputs": [],
   "source": [
    "for i in range(8,90,3):\n",
    "    print(i, end=\",\")\n",
    "    \n"
   ]
  },
  {
   "cell_type": "code",
   "execution_count": null,
   "id": "eaca13b5",
   "metadata": {},
   "outputs": [],
   "source": [
    "for i in range(100,0,-2):\n",
    "    print(i, end=\",\")"
   ]
  },
  {
   "cell_type": "code",
   "execution_count": null,
   "id": "8b95a1cc",
   "metadata": {},
   "outputs": [],
   "source": [
    "for i in range(10):\n",
    "    print(\"A\",end=\"\")\n",
    "for j in range(7):\n",
    "    print(\"B\",end=\"\")\n",
    "for x in range(4):\n",
    "    print(\"CD\",end=\"\")\n",
    "for y in range(1):\n",
    "    print(\"EFFFFFFG\",end=\"\")\n",
    "                \n",
    "                \n",
    "                \n",
    "            \n",
    "        \n",
    "    \n"
   ]
  },
  {
   "cell_type": "code",
   "execution_count": null,
   "id": "d77d5b84",
   "metadata": {},
   "outputs": [],
   "source": [
    "i=1\n",
    "while i<=1:\n",
    "    i<=2\n",
    "    i<=1\n",
    "    i<=2\n",
    "    print(\"*\"*19)\n",
    "    print(\"*\" \"                 \"*2)\n",
    "    print(\"*\" \"                 \"*2)\n",
    "    print(\"*\"*19)\n",
    "    i=i+1\n",
    "    "
   ]
  },
  {
   "cell_type": "code",
   "execution_count": null,
   "id": "cd9a25cb",
   "metadata": {},
   "outputs": [],
   "source": [
    "Name=input(\"What is your name? \")\n",
    "Times=int(input(\"How many times should we print your name? \"))\n",
    "i=1\n",
    "while i<=Times:\n",
    "    print(Name, i)\n",
    "    i=i+1"
   ]
  },
  {
   "cell_type": "code",
   "execution_count": null,
   "id": "25b120f9",
   "metadata": {},
   "outputs": [],
   "source": []
  },
  {
   "cell_type": "code",
   "execution_count": null,
   "id": "186c1c9a",
   "metadata": {},
   "outputs": [],
   "source": []
  },
  {
   "cell_type": "code",
   "execution_count": null,
   "id": "b385c4ca",
   "metadata": {},
   "outputs": [],
   "source": []
  },
  {
   "cell_type": "code",
   "execution_count": null,
   "id": "b8ed0400",
   "metadata": {},
   "outputs": [],
   "source": []
  }
 ],
 "metadata": {
  "kernelspec": {
   "display_name": "Python 3",
   "language": "python",
   "name": "python3"
  },
  "language_info": {
   "codemirror_mode": {
    "name": "ipython",
    "version": 3
   },
   "file_extension": ".py",
   "mimetype": "text/x-python",
   "name": "python",
   "nbconvert_exporter": "python",
   "pygments_lexer": "ipython3",
   "version": "3.8.8"
  }
 },
 "nbformat": 4,
 "nbformat_minor": 5
}
